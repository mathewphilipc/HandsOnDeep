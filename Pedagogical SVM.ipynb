{
 "cells": [
  {
   "cell_type": "markdown",
   "metadata": {},
   "source": [
    "This Jupyter notebook demonstrates a simple but reasonably standard use of the support vector machine (SVM) algorithm. For better or worse, the mathematical details behind this algorithm are beyond the technical background required of this notebook's audience. The mathematically sophisticated (or simply adventurous) student can visit https://en.wikipedia.org/wiki/Support_vector_machine to see a more exact treatment of what the algorithm does, and https://en.wikipedia.org/wiki/Convex_optimization for a glimpse of exactly how and why it works.\n",
    "\n",
    "We begin with a (fictional) dataset describing 300 young basketball players. The first two columns gives each player's height in inches and 100m sprint time in seconds, as measured during their senior year season. The third column indicates whether each player did (1) or did not (0) end up playing basketball on a college team. We think of height and sprint times as predictive variables and college playing as an output to be predicted, and we will end up with an algorithm that predicts just that.\n",
    "\n",
    "But first, the boring bits. Let's import the various libraries we'll need for this exercise."
   ]
  },
  {
   "cell_type": "code",
   "execution_count": 21,
   "metadata": {},
   "outputs": [],
   "source": [
    "# various imports\n",
    "import numpy as np\n",
    "import os\n",
    "import matplotlib\n",
    "import matplotlib.pyplot as plt\n",
    "import pandas as pd\n",
    "import io\n",
    "import requests\n",
    "import tarfile\n",
    "from sklearn import svm"
   ]
  },
  {
   "cell_type": "markdown",
   "metadata": {},
   "source": [
    "Next we need to grab the data. Finding, importing, and formatting data sets is its own art, but today we're lucky: the data exists as a .csv file and is already formatted neatly. To ensure everything worked as intended, we display three different ways of summarizing the data."
   ]
  },
  {
   "cell_type": "code",
   "execution_count": 2,
   "metadata": {},
   "outputs": [],
   "source": [
    "url=\"https://raw.githubusercontent.com/mathewphilipc/HandsOnDeep/master/basketball_data.csv\"\n",
    "s=requests.get(url).content\n",
    "data=pd.read_csv(io.StringIO(s.decode('utf-8')))"
   ]
  },
  {
   "cell_type": "code",
   "execution_count": 3,
   "metadata": {},
   "outputs": [
    {
     "data": {
      "text/html": [
       "<div>\n",
       "<style scoped>\n",
       "    .dataframe tbody tr th:only-of-type {\n",
       "        vertical-align: middle;\n",
       "    }\n",
       "\n",
       "    .dataframe tbody tr th {\n",
       "        vertical-align: top;\n",
       "    }\n",
       "\n",
       "    .dataframe thead th {\n",
       "        text-align: right;\n",
       "    }\n",
       "</style>\n",
       "<table border=\"1\" class=\"dataframe\">\n",
       "  <thead>\n",
       "    <tr style=\"text-align: right;\">\n",
       "      <th></th>\n",
       "      <th>Height</th>\n",
       "      <th>Sprint</th>\n",
       "      <th>College</th>\n",
       "    </tr>\n",
       "  </thead>\n",
       "  <tbody>\n",
       "    <tr>\n",
       "      <th>0</th>\n",
       "      <td>73.617769</td>\n",
       "      <td>11.177916</td>\n",
       "      <td>1</td>\n",
       "    </tr>\n",
       "    <tr>\n",
       "      <th>1</th>\n",
       "      <td>74.288237</td>\n",
       "      <td>11.828745</td>\n",
       "      <td>0</td>\n",
       "    </tr>\n",
       "    <tr>\n",
       "      <th>2</th>\n",
       "      <td>72.972113</td>\n",
       "      <td>11.680184</td>\n",
       "      <td>0</td>\n",
       "    </tr>\n",
       "    <tr>\n",
       "      <th>3</th>\n",
       "      <td>74.351292</td>\n",
       "      <td>12.501294</td>\n",
       "      <td>1</td>\n",
       "    </tr>\n",
       "    <tr>\n",
       "      <th>4</th>\n",
       "      <td>72.827937</td>\n",
       "      <td>12.170944</td>\n",
       "      <td>0</td>\n",
       "    </tr>\n",
       "  </tbody>\n",
       "</table>\n",
       "</div>"
      ],
      "text/plain": [
       "      Height     Sprint  College\n",
       "0  73.617769  11.177916        1\n",
       "1  74.288237  11.828745        0\n",
       "2  72.972113  11.680184        0\n",
       "3  74.351292  12.501294        1\n",
       "4  72.827937  12.170944        0"
      ]
     },
     "execution_count": 3,
     "metadata": {},
     "output_type": "execute_result"
    }
   ],
   "source": [
    "data.head()"
   ]
  },
  {
   "cell_type": "code",
   "execution_count": 8,
   "metadata": {},
   "outputs": [
    {
     "data": {
      "text/html": [
       "<div>\n",
       "<style scoped>\n",
       "    .dataframe tbody tr th:only-of-type {\n",
       "        vertical-align: middle;\n",
       "    }\n",
       "\n",
       "    .dataframe tbody tr th {\n",
       "        vertical-align: top;\n",
       "    }\n",
       "\n",
       "    .dataframe thead th {\n",
       "        text-align: right;\n",
       "    }\n",
       "</style>\n",
       "<table border=\"1\" class=\"dataframe\">\n",
       "  <thead>\n",
       "    <tr style=\"text-align: right;\">\n",
       "      <th></th>\n",
       "      <th>Height</th>\n",
       "      <th>Sprint</th>\n",
       "      <th>College</th>\n",
       "    </tr>\n",
       "  </thead>\n",
       "  <tbody>\n",
       "    <tr>\n",
       "      <th>count</th>\n",
       "      <td>300.000000</td>\n",
       "      <td>300.000000</td>\n",
       "      <td>300.000000</td>\n",
       "    </tr>\n",
       "    <tr>\n",
       "      <th>mean</th>\n",
       "      <td>73.877209</td>\n",
       "      <td>12.021287</td>\n",
       "      <td>0.593333</td>\n",
       "    </tr>\n",
       "    <tr>\n",
       "      <th>std</th>\n",
       "      <td>1.997583</td>\n",
       "      <td>0.393754</td>\n",
       "      <td>0.492032</td>\n",
       "    </tr>\n",
       "    <tr>\n",
       "      <th>min</th>\n",
       "      <td>68.983880</td>\n",
       "      <td>10.877144</td>\n",
       "      <td>0.000000</td>\n",
       "    </tr>\n",
       "    <tr>\n",
       "      <th>25%</th>\n",
       "      <td>72.565730</td>\n",
       "      <td>11.733058</td>\n",
       "      <td>0.000000</td>\n",
       "    </tr>\n",
       "    <tr>\n",
       "      <th>50%</th>\n",
       "      <td>73.852688</td>\n",
       "      <td>12.022030</td>\n",
       "      <td>1.000000</td>\n",
       "    </tr>\n",
       "    <tr>\n",
       "      <th>75%</th>\n",
       "      <td>75.263846</td>\n",
       "      <td>12.298332</td>\n",
       "      <td>1.000000</td>\n",
       "    </tr>\n",
       "    <tr>\n",
       "      <th>max</th>\n",
       "      <td>80.134534</td>\n",
       "      <td>13.176756</td>\n",
       "      <td>1.000000</td>\n",
       "    </tr>\n",
       "  </tbody>\n",
       "</table>\n",
       "</div>"
      ],
      "text/plain": [
       "           Height      Sprint     College\n",
       "count  300.000000  300.000000  300.000000\n",
       "mean    73.877209   12.021287    0.593333\n",
       "std      1.997583    0.393754    0.492032\n",
       "min     68.983880   10.877144    0.000000\n",
       "25%     72.565730   11.733058    0.000000\n",
       "50%     73.852688   12.022030    1.000000\n",
       "75%     75.263846   12.298332    1.000000\n",
       "max     80.134534   13.176756    1.000000"
      ]
     },
     "execution_count": 8,
     "metadata": {},
     "output_type": "execute_result"
    }
   ],
   "source": [
    "data.describe()"
   ]
  },
  {
   "cell_type": "code",
   "execution_count": 9,
   "metadata": {},
   "outputs": [
    {
     "name": "stdout",
     "output_type": "stream",
     "text": [
      "<class 'pandas.core.frame.DataFrame'>\n",
      "RangeIndex: 300 entries, 0 to 299\n",
      "Data columns (total 3 columns):\n",
      "Height     300 non-null float64\n",
      "Sprint     300 non-null float64\n",
      "College    300 non-null int64\n",
      "dtypes: float64(2), int64(1)\n",
      "memory usage: 7.1 KB\n"
     ]
    }
   ],
   "source": [
    "data.info()"
   ]
  },
  {
   "cell_type": "markdown",
   "metadata": {},
   "source": [
    "Great, everything checks out. Using data.head() we see the first five rows of out data set, corresponding to the first five athletes. And the numbers we see are reasonable: the first athlete is a bit under 6'4\" (quite tall, but not unusual for a basketball player) and can run 100m in a little over 11sec (quite fast, but not unheard of for a high-level athlete). The next four athletes are reasonable as well.\n",
    "\n",
    "data.describe() offers some aggregate information about each category. For example, all 300 athletes have listed values for each attribute. The average athlete on our list is a bit under 6'4\" and runs 100m in just over 12s, and 59.3% of them went on to play in college. We can also see slightly more sophisticated statistical information such as standard deviations and quartiles for each trait.\n",
    "\n",
    "data.info() tells us basic info about our data as a data structure. It's something called a pandas DataFrame. Our two input attributes are floats and the output is an int. And apparently it occupies 7.1kb in memory.\n",
    "\n",
    "As nice as this data is, we need to do just a little bit of reshaping before we can feed it into our support vector machine."
   ]
  },
  {
   "cell_type": "code",
   "execution_count": 40,
   "metadata": {},
   "outputs": [],
   "source": [
    "y = data[\"College\"].values.reshape(-1,1)\n",
    "X1 = data[\"Height\"].values.reshape(-1,1)\n",
    "X2 = data[\"Sprint\"].values.reshape(-1,1)\n",
    "X = data.drop(\"College\",axis=1).values.reshape(-1,2)"
   ]
  },
  {
   "cell_type": "markdown",
   "metadata": {},
   "source": [
    "Now that that's out of the way, "
   ]
  },
  {
   "cell_type": "code",
   "execution_count": 47,
   "metadata": {},
   "outputs": [
    {
     "data": {
      "text/plain": [
       "SVC(C=1.0, cache_size=200, class_weight=None, coef0=0.0,\n",
       "  decision_function_shape='ovr', degree=3, gamma='auto', kernel='linear',\n",
       "  max_iter=-1, probability=False, random_state=None, shrinking=True,\n",
       "  tol=0.001, verbose=False)"
      ]
     },
     "execution_count": 47,
     "metadata": {},
     "output_type": "execute_result"
    }
   ],
   "source": [
    "model = svm.SVC(kernel='linear')\n",
    "model.fit(X,y)"
   ]
  },
  {
   "cell_type": "code",
   "execution_count": null,
   "metadata": {},
   "outputs": [],
   "source": []
  }
 ],
 "metadata": {
  "kernelspec": {
   "display_name": "Python 3",
   "language": "python",
   "name": "python3"
  },
  "language_info": {
   "codemirror_mode": {
    "name": "ipython",
    "version": 2
   },
   "file_extension": ".py",
   "mimetype": "text/x-python",
   "name": "python",
   "nbconvert_exporter": "python",
   "pygments_lexer": "ipython2",
   "version": "2.7.12"
  }
 },
 "nbformat": 4,
 "nbformat_minor": 2
}

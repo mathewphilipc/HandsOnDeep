{
 "cells": [
  {
   "cell_type": "code",
   "execution_count": 1,
   "metadata": {},
   "outputs": [],
   "source": [
    "# Note: In versions of TensorFlow before 1.2, we recommended using multi-threaded, queue-based input\n",
    "# pipelines for performance. Beginning with TensorFlow 1.4, however, we recommend using the tf.data\n",
    "# module instead. (See Datasets for details. In TensorFlow 1.2 and 1.3, the module was called\n",
    "# tf.contrib.data.) The tf.data module offers an easier-to-use interface for constructing efficient\n",
    "# input pipelines. Furthermore, we've stopped developing the old multi-threaded, queue-based input\n",
    "# pipelines. We've retained the documentation in this file to help developers who are still\n",
    "# maintaining older code.\n",
    "\n",
    "# TensorFlow implements several classes of queue. The principal difference between these classes is\n",
    "# the order that items are removed from the queue."
   ]
  },
  {
   "cell_type": "code",
   "execution_count": 2,
   "metadata": {},
   "outputs": [],
   "source": [
    "import tensorflow as tf"
   ]
  },
  {
   "cell_type": "code",
   "execution_count": 3,
   "metadata": {},
   "outputs": [],
   "source": [
    "# First we create a First In First Out queue\n",
    "q = tf.FIFOQueue(3, \"float\")\n",
    "init = q.enqueue_many(([0.,0.,0.],))\n",
    "\n",
    "x = q.dequeue()\n",
    "y = x+1\n",
    "q_inc = q.enqueue([y])\n",
    "\n",
    "with tf.Session() as sess:\n",
    "    1+2\n",
    "    init.run()\n",
    "    q_inc.run()\n",
    "    q_inc.run()\n",
    "    q_inc.run()\n",
    "    q_inc.run()"
   ]
  },
  {
   "cell_type": "code",
   "execution_count": null,
   "metadata": {},
   "outputs": [],
   "source": []
  }
 ],
 "metadata": {
  "kernelspec": {
   "display_name": "Python 3",
   "language": "python",
   "name": "python3"
  },
  "language_info": {
   "codemirror_mode": {
    "name": "ipython",
    "version": 2
   },
   "file_extension": ".py",
   "mimetype": "text/x-python",
   "name": "python",
   "nbconvert_exporter": "python",
   "pygments_lexer": "ipython2",
   "version": "2.7.12"
  }
 },
 "nbformat": 4,
 "nbformat_minor": 2
}

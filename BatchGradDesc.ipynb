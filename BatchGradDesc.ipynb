{
 "cells": [
  {
   "cell_type": "code",
   "execution_count": 1,
   "metadata": {},
   "outputs": [],
   "source": [
    "import numpy as np\n",
    "import matplotlib\n",
    "import matplotlib.pyplot as plt"
   ]
  },
  {
   "cell_type": "code",
   "execution_count": 2,
   "metadata": {},
   "outputs": [],
   "source": [
    "# Randomly generate data to learn\n",
    "# y ~ 3x + 4 + noise\n",
    "num_instances = 1000\n",
    "X = 2 * np.random.rand(num_instances,1)\n",
    "y = 4 + 3 * X + np.random.randn(num_instances,1)"
   ]
  },
  {
   "cell_type": "code",
   "execution_count": 3,
   "metadata": {},
   "outputs": [],
   "source": [
    "# As usual for linreg, append bias 1s to X\n",
    "X_b = np.c_[np.ones((num_instances, 1)), X]"
   ]
  },
  {
   "cell_type": "code",
   "execution_count": 4,
   "metadata": {},
   "outputs": [],
   "source": [
    "# Set hyperparameters\n",
    "eta = 0.1\n",
    "n_iterations = 10000\n",
    "m = num_instances\n",
    "\n",
    "# Randomly initialize parameters\n",
    "theta = np.random.randn(2,1)"
   ]
  },
  {
   "cell_type": "code",
   "execution_count": 5,
   "metadata": {},
   "outputs": [
    {
     "name": "stdout",
     "output_type": "stream",
     "text": [
      "Final value of theta:\n",
      "Bias:\n",
      "[ 3.92280534]\n",
      "theta_1:\n",
      "[ 3.06486732]\n"
     ]
    }
   ],
   "source": [
    "# Training using batch linear regression\n",
    "for iteration in range(n_iterations):\n",
    "    gradients = 2.0/m * X_b.T.dot(X_b.dot(theta) - y)\n",
    "    theta = theta - eta * gradients\n",
    "\n",
    "print(\"Final value of theta:\")\n",
    "\n",
    "print(\"Bias:\")\n",
    "print(theta[0])\n",
    "print(\"theta_1:\")\n",
    "print(theta[1])"
   ]
  },
  {
   "cell_type": "code",
   "execution_count": null,
   "metadata": {},
   "outputs": [],
   "source": []
  }
 ],
 "metadata": {
  "kernelspec": {
   "display_name": "Python 3",
   "language": "python",
   "name": "python3"
  },
  "language_info": {
   "codemirror_mode": {
    "name": "ipython",
    "version": 2
   },
   "file_extension": ".py",
   "mimetype": "text/x-python",
   "name": "python",
   "nbconvert_exporter": "python",
   "pygments_lexer": "ipython2",
   "version": "2.7.12"
  }
 },
 "nbformat": 4,
 "nbformat_minor": 2
}
